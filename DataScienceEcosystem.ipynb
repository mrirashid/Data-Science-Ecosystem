{
 "cells": [
  {
   "cell_type": "markdown",
   "id": "577ee12c",
   "metadata": {},
   "source": [
    "# Data Science Tools and Ecosystem"
   ]
  },
  {
   "cell_type": "markdown",
   "id": "16f97683",
   "metadata": {},
   "source": [
    "In this notebook, Data Science Tools and Ecosystem are summarized."
   ]
  },
  {
   "cell_type": "markdown",
   "id": "ca252460",
   "metadata": {},
   "source": [
    "Some of the popular languages that Data Scientists use are:\n",
    "1. Python.\n",
    "2. R.\n",
    "3. SQL."
   ]
  },
  {
   "cell_type": "markdown",
   "id": "39aecddc",
   "metadata": {},
   "source": [
    "Some of the commonly used libraries used by Data Scientists include:\n",
    "1. NumPy.\n",
    "2. Keras.\n",
    "3. Pandas."
   ]
  },
  {
   "cell_type": "markdown",
   "id": "62410cc2",
   "metadata": {},
   "source": [
    "# Data Science Tools\n",
    "| Data Mining and Transformation | Data Analysis and Big Data Tool | Model Deployment |\n",
    "| --- |                       ---| --- | \n",
    "|Pandas                          | Hadoop                          | TensorFlow.js |\n"
   ]
  },
  {
   "cell_type": "markdown",
   "id": "b850bbcd",
   "metadata": {},
   "source": [
    "### Below are a few examples of evaluating arithmetic expressions in Python.\n",
    "1. Basic Arithmetic Operations:\n",
    "result = 10 + 5 * 2  # result = 20 (10 + (5 * 2))\n",
    "print(result)\n",
    "\n",
    "2. Using Parentheses for Precedence:\n",
    "result = (10 + 5) * 2  # result = 30 ((10 + 5) * 2)\n",
    "print(result)\n",
    "\n",
    "3. Using Variables:\n",
    "a = 10\n",
    "b = 5\n",
    "result = a * (b + 3)  # result = 50 (10 * (5 + 3))\n",
    "print(result)\n",
    "\n",
    "4. Float Division:\n",
    "result = 15 / 2  # result = 7.5 (15 divided by 2)\n",
    "print(result)\n",
    "\n",
    "5. Integer Division (Floor Division):\n",
    "result = 15 // 2  # result = 7 (integer division of 15 by 2)\n",
    "print(result)\n",
    "\n",
    "6. xponentiation:\n",
    "result = 2 ** 3  # result = 8 (2 raised to the power of 3)\n",
    "print(result)\n",
    "\n",
    "7. Modulo Operator:\n",
    "result = 15 % 4  # result = 3 (remainder of 15 divided by 4)\n",
    "print(result)"
   ]
  },
  {
   "cell_type": "code",
   "execution_count": 1,
   "id": "f8da34cd",
   "metadata": {},
   "outputs": [
    {
     "name": "stdout",
     "output_type": "stream",
     "text": [
      "17\n"
     ]
    }
   ],
   "source": [
    "#This a simple arithmetic expression to mutiply then add integers\n",
    "x=(3*4)+5;\n",
    "print(x)"
   ]
  },
  {
   "cell_type": "code",
   "execution_count": 7,
   "id": "e72b16f1",
   "metadata": {},
   "outputs": [
    {
     "name": "stdout",
     "output_type": "stream",
     "text": [
      "3\n"
     ]
    }
   ],
   "source": [
    "# This will convert 200 minutes to hours by diving by 60\n",
    "minutes =200 \n",
    "hour = int (200/60)\n",
    "print(hour)"
   ]
  },
  {
   "cell_type": "markdown",
   "id": "44d6393e",
   "metadata": {},
   "source": [
    "**Objectives:**\n",
    "- Python.\n",
    "- SQL.\n",
    "- R.\n"
   ]
  },
  {
   "cell_type": "markdown",
   "id": "54ffae8b",
   "metadata": {},
   "source": [
    "## Author \n",
    "Md Rashidul Islam"
   ]
  }
 ],
 "metadata": {
  "kernelspec": {
   "display_name": "Python 3 (ipykernel)",
   "language": "python",
   "name": "python3"
  },
  "language_info": {
   "codemirror_mode": {
    "name": "ipython",
    "version": 3
   },
   "file_extension": ".py",
   "mimetype": "text/x-python",
   "name": "python",
   "nbconvert_exporter": "python",
   "pygments_lexer": "ipython3",
   "version": "3.11.5"
  }
 },
 "nbformat": 4,
 "nbformat_minor": 5
}
